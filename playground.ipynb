{
 "cells": [
  {
   "cell_type": "code",
   "execution_count": 1,
   "metadata": {},
   "outputs": [],
   "source": [
    "import re\n",
    "import numpy as np"
   ]
  },
  {
   "cell_type": "code",
   "execution_count": 2,
   "metadata": {},
   "outputs": [
    {
     "name": "stdout",
     "output_type": "stream",
     "text": [
      "['The', 'cat', 'in', 'the', 'hat', 'He', 'had', 'the', 'fun']\n"
     ]
    }
   ],
   "source": [
    "finder = re.compile('[a-zA-Z]+')\n",
    "tokens = finder.findall(\"The cat in the hat. He had the fun!\")\n",
    "print(tokens)"
   ]
  },
  {
   "cell_type": "code",
   "execution_count": 28,
   "metadata": {},
   "outputs": [
    {
     "name": "stdout",
     "output_type": "stream",
     "text": [
      "{'the': 3, 'cat': 1, 'in': 1, 'hat': 1, 'he': 1, 'had': 1, 'fun': 1}\n",
      "[3, 1, 1, 1, 1, 1, 1]\n",
      "7\n",
      "{'the': 0, 'UNK': 1}\n",
      "{0: 'the', 1: 'UNK'}\n"
     ]
    }
   ],
   "source": [
    "d = {}\n",
    "for word in tokens:\n",
    "    try:\n",
    "        d[word.lower()] += 1\n",
    "    except KeyError:\n",
    "        d[word.lower()] = 1\n",
    "print(d)\n",
    "\n",
    "blah = sorted(d.items(), key=lambda item: item[1], reverse=True)\n",
    "freqs = sorted(d.values(), reverse=True)\n",
    "print(freqs)\n",
    "print(len(freqs))\n",
    "idx = 0\n",
    "b = {}\n",
    "c = {}\n",
    "for t in blah:\n",
    "    \n",
    "    \n",
    "    if t[1] > 2:\n",
    "        b[t[0]] = idx\n",
    "        c[idx] = t[0]\n",
    "        idx += 1\n",
    "    else:\n",
    "        b[\"UNK\"] = idx\n",
    "        c[idx] = \"UNK\"\n",
    "print(b)\n",
    "print(c)\n"
   ]
  },
  {
   "cell_type": "code",
   "execution_count": null,
   "metadata": {},
   "outputs": [],
   "source": []
  }
 ],
 "metadata": {
  "kernelspec": {
   "display_name": "Python 3",
   "language": "python",
   "name": "python3"
  },
  "language_info": {
   "codemirror_mode": {
    "name": "ipython",
    "version": 3
   },
   "file_extension": ".py",
   "mimetype": "text/x-python",
   "name": "python",
   "nbconvert_exporter": "python",
   "pygments_lexer": "ipython3",
   "version": "3.11.8"
  }
 },
 "nbformat": 4,
 "nbformat_minor": 2
}
